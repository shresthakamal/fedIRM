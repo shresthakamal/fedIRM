{
  "cells": [
    {
      "cell_type": "markdown",
      "metadata": {
        "id": "FakRWDPtXfXs"
      },
      "source": [
        "The DICOM format is so cool, but I prefer normal images :)\n",
        "\n",
        "With 156GB (compressed) it is very difficult to work with the resources of the vast majority of the mortals.\n",
        "This notebook shows you how to scale down all the images and create a new dataset easier to deal with.\n",
        "Even with the best computing resources, I don't think it's necessary to use the original size to get good accuracy.\n",
        "\n",
        "If you feel that you need bigger images or you want to store the images in another format you only need to change a couple of lines in the next section (Constants).\n",
        "\n",
        "Some code taken from:\n",
        "* https://www.kaggle.com/omission/eda-view-dicom-images-with-correct-windowing\n",
        "* https://www.kaggle.com/c/rsna-intracranial-hemorrhage-detection/discussion/109649#latest-631701\n",
        "\n",
        "# Configuration"
      ]
    },
    {
      "cell_type": "code",
      "execution_count": 1,
      "metadata": {
        "id": "FvafClX-XrmH"
      },
      "outputs": [],
      "source": [
        "# Desired output size.\n",
        "RESIZED_WIDTH, RESIZED_HEIGHT = 128, 128\n",
        "\n",
        "OUTPUT_FORMAT = \"png\"\n",
        "\n",
        "OUTPUT_DIR = \"output\""
      ]
    },
    {
      "cell_type": "markdown",
      "metadata": {
        "id": "f9VhPK8HoHt9"
      },
      "source": [
        "# Installations"
      ]
    },
    {
      "cell_type": "code",
      "execution_count": 2,
      "metadata": {
        "id": "5RQs59bLoL9_"
      },
      "outputs": [],
      "source": [
        "%%capture\n",
        "\n",
        "# Uninstall and reinstall kaggle because I'm getting and error: the kaggle script\n",
        "# is running on Python 2 instead of Python 3 and fails when downloading kernel\n",
        "# outputs.\n",
        "# It's also needed for download data for this competition.\n",
        "!pip uninstall -y kaggle"
      ]
    },
    {
      "cell_type": "code",
      "execution_count": 3,
      "metadata": {
        "colab": {
          "base_uri": "https://localhost:8080/"
        },
        "id": "-YiiZsPabF6K",
        "outputId": "293e1698-b03c-4174-ec8f-62eab743b821"
      },
      "outputs": [
        {
          "output_type": "stream",
          "name": "stdout",
          "text": [
            "Collecting kaggle\n",
            "  Downloading kaggle-1.5.12.tar.gz (58 kB)\n",
            "\u001b[?25l\r\u001b[K     |█████▋                          | 10 kB 19.9 MB/s eta 0:00:01\r\u001b[K     |███████████▏                    | 20 kB 21.6 MB/s eta 0:00:01\r\u001b[K     |████████████████▊               | 30 kB 12.8 MB/s eta 0:00:01\r\u001b[K     |██████████████████████▎         | 40 kB 10.4 MB/s eta 0:00:01\r\u001b[K     |███████████████████████████▉    | 51 kB 5.7 MB/s eta 0:00:01\r\u001b[K     |████████████████████████████████| 58 kB 3.2 MB/s \n",
            "\u001b[?25hRequirement already satisfied: six>=1.10 in /usr/local/lib/python3.7/dist-packages (from kaggle) (1.15.0)\n",
            "Requirement already satisfied: certifi in /usr/local/lib/python3.7/dist-packages (from kaggle) (2021.10.8)\n",
            "Requirement already satisfied: python-dateutil in /usr/local/lib/python3.7/dist-packages (from kaggle) (2.8.2)\n",
            "Requirement already satisfied: requests in /usr/local/lib/python3.7/dist-packages (from kaggle) (2.23.0)\n",
            "Requirement already satisfied: tqdm in /usr/local/lib/python3.7/dist-packages (from kaggle) (4.62.3)\n",
            "Requirement already satisfied: python-slugify in /usr/local/lib/python3.7/dist-packages (from kaggle) (5.0.2)\n",
            "Requirement already satisfied: urllib3 in /usr/local/lib/python3.7/dist-packages (from kaggle) (1.24.3)\n",
            "Requirement already satisfied: text-unidecode>=1.3 in /usr/local/lib/python3.7/dist-packages (from python-slugify->kaggle) (1.3)\n",
            "Requirement already satisfied: chardet<4,>=3.0.2 in /usr/local/lib/python3.7/dist-packages (from requests->kaggle) (3.0.4)\n",
            "Requirement already satisfied: idna<3,>=2.5 in /usr/local/lib/python3.7/dist-packages (from requests->kaggle) (2.10)\n",
            "Building wheels for collected packages: kaggle\n",
            "  Building wheel for kaggle (setup.py) ... \u001b[?25l\u001b[?25hdone\n",
            "  Created wheel for kaggle: filename=kaggle-1.5.12-py3-none-any.whl size=73051 sha256=939c9f542f14adf2ea1d68e9fb0844b72770265cc28debb2d8256f4fabfbb688\n",
            "  Stored in directory: /root/.cache/pip/wheels/62/d6/58/5853130f941e75b2177d281eb7e44b4a98ed46dd155f556dc5\n",
            "Successfully built kaggle\n",
            "Installing collected packages: kaggle\n",
            "Successfully installed kaggle-1.5.12\n"
          ]
        }
      ],
      "source": [
        "!pip install kaggle"
      ]
    },
    {
      "cell_type": "code",
      "execution_count": 4,
      "metadata": {
        "id": "WXxbGtzXB7BZ"
      },
      "outputs": [],
      "source": [
        "%%capture\n",
        "\n",
        "# Install this library for reading the *.dcm images of this competition.\n",
        "!pip install pydicom"
      ]
    },
    {
      "cell_type": "code",
      "execution_count": 5,
      "metadata": {
        "id": "chgE9gVMQ4HP"
      },
      "outputs": [],
      "source": [
        "%%capture\n",
        "\n",
        "# Mount fuse-zip to mount zip files so we can access the files without unzip it.\n",
        "# This is needed because of the lack of space in Google Colab disk.\n",
        "!apt-get install -y fuse-zip"
      ]
    },
    {
      "cell_type": "markdown",
      "metadata": {
        "id": "inFQEaaMoKe2"
      },
      "source": [
        "# Imports"
      ]
    },
    {
      "cell_type": "code",
      "execution_count": 6,
      "metadata": {
        "id": "EPNIQTvEmiXS"
      },
      "outputs": [],
      "source": [
        "import glob\n",
        "import os\n",
        "\n",
        "import joblib\n",
        "\n",
        "import numpy as np\n",
        "\n",
        "import PIL\n",
        "\n",
        "import pydicom\n",
        "\n",
        "import tqdm"
      ]
    },
    {
      "cell_type": "markdown",
      "metadata": {
        "id": "BAIvD7YYm7VB"
      },
      "source": [
        "# Setup"
      ]
    },
    {
      "cell_type": "code",
      "execution_count": 7,
      "metadata": {
        "id": "nSQ1lTX4m8hS"
      },
      "outputs": [],
      "source": [
        "# Set environment variables for using the Kaggle API.\n",
        "os.environ[\"KAGGLE_USERNAME\"] = \"kamalshresthaiith\"\n",
        "os.environ[\"KAGGLE_KEY\"] = \"1795b60a7d1997dbbf2aae5e0c48bb29\""
      ]
    },
    {
      "cell_type": "markdown",
      "metadata": {
        "id": "zQmKznCJn6lU"
      },
      "source": [
        "# Get the data"
      ]
    },
    {
      "cell_type": "code",
      "execution_count": 8,
      "metadata": {
        "colab": {
          "base_uri": "https://localhost:8080/"
        },
        "id": "hl-PZYtsnCOA",
        "outputId": "ddc296f7-4731-4611-d7f4-1b032a4b72dd"
      },
      "outputs": [
        {
          "output_type": "stream",
          "name": "stdout",
          "text": [
            "Downloading rsna-intracranial-hemorrhage-detection.zip to input/raw\n",
            "  5% 8.51G/181G [02:54<59:03, 52.4MB/s]  \n",
            "User cancelled operation\n"
          ]
        }
      ],
      "source": [
        "# 30-45min in Google Colab.\n",
        "raw_data_dir = \"input/raw\"\n",
        "!kaggle competitions download -c rsna-intracranial-hemorrhage-detection -p {raw_data_dir}"
      ]
    },
    {
      "cell_type": "markdown",
      "metadata": {
        "id": "6bQaxTBsUFeF"
      },
      "source": [
        "# Mount ZIP with fuse-zip"
      ]
    },
    {
      "cell_type": "code",
      "execution_count": 9,
      "metadata": {
        "id": "LrHBOVyYUJZa",
        "colab": {
          "base_uri": "https://localhost:8080/"
        },
        "outputId": "623c1123-9e1b-42f4-ee3a-bce28e470851"
      },
      "outputs": [
        {
          "output_type": "stream",
          "name": "stdout",
          "text": [
            "fuse-zip: cannot open zip archive input/raw/rsna-intracranial-hemorrhage-detection.zip: Not a zip archive\n",
            "CPU times: user 12.9 ms, sys: 10.6 ms, total: 23.5 ms\n",
            "Wall time: 234 ms\n"
          ]
        }
      ],
      "source": [
        "%%time\n",
        "# Around 10 min in Google Colab.\n",
        "\n",
        "input_dir = \"/tmp/kaggle-data\"\n",
        "!mkdir {input_dir}\n",
        "!fuse-zip input/raw/rsna-intracranial-hemorrhage-detection.zip {input_dir}"
      ]
    },
    {
      "cell_type": "code",
      "execution_count": 10,
      "metadata": {
        "id": "yE06xXqBWbws"
      },
      "outputs": [],
      "source": [
        "# Check that everything is working.\n",
        "!ls {input_dir}"
      ]
    },
    {
      "cell_type": "markdown",
      "metadata": {
        "id": "gqo9cUAiU6Eo"
      },
      "source": [
        "# Get images path"
      ]
    },
    {
      "cell_type": "code",
      "execution_count": 11,
      "metadata": {
        "colab": {
          "base_uri": "https://localhost:8080/"
        },
        "id": "7FsLeV_iYjdM",
        "outputId": "7772f291-743a-4a2c-a296-7ec937821d67"
      },
      "outputs": [
        {
          "output_type": "execute_result",
          "data": {
            "text/plain": [
              "(0, 0)"
            ]
          },
          "metadata": {},
          "execution_count": 11
        }
      ],
      "source": [
        "train_dir = \"stage_1_train_images\"\n",
        "train_paths = glob.glob(f\"{input_dir}/{train_dir}/*.dcm\")\n",
        "test_dir = \"stage_1_test_images\"\n",
        "test_paths = glob.glob(f\"{input_dir}/{test_dir}/*.dcm\")\n",
        "len(train_paths), len(test_paths)"
      ]
    },
    {
      "cell_type": "markdown",
      "metadata": {
        "id": "5S4WjV6IZQWd"
      },
      "source": [
        "# Preprocess all data\n",
        "\n",
        "First declare a bunch of useful functions."
      ]
    },
    {
      "cell_type": "code",
      "execution_count": null,
      "metadata": {
        "id": "czP93llYZJxG"
      },
      "outputs": [],
      "source": [
        "def get_first_of_dicom_field_as_int(x):\n",
        "    if type(x) == pydicom.multival.MultiValue:\n",
        "        return int(x[0])\n",
        "    return int(x)\n",
        "\n",
        "def get_id(img_dicom):\n",
        "    return str(img_dicom.SOPInstanceUID)\n",
        "\n",
        "def get_metadata_from_dicom(img_dicom):\n",
        "    metadata = {\n",
        "        \"window_center\": img_dicom.WindowCenter,\n",
        "        \"window_width\": img_dicom.WindowWidth,\n",
        "        \"intercept\": img_dicom.RescaleIntercept,\n",
        "        \"slope\": img_dicom.RescaleSlope,\n",
        "    }\n",
        "    return {k: get_first_of_dicom_field_as_int(v) for k, v in metadata.items()}\n",
        "\n",
        "def window_image(img, window_center, window_width, intercept, slope):\n",
        "    img = img * slope + intercept\n",
        "    img_min = window_center - window_width // 2\n",
        "    img_max = window_center + window_width // 2\n",
        "    img[img < img_min] = img_min\n",
        "    img[img > img_max] = img_max\n",
        "    return img \n",
        "\n",
        "def resize(img, new_w, new_h):\n",
        "    img = PIL.Image.fromarray(img.astype(np.int8), mode=\"L\")\n",
        "    return img.resize((new_w, new_h), resample=PIL.Image.BICUBIC)\n",
        "\n",
        "def save_img(img_pil, subfolder, name):\n",
        "    img_pil.save(f\"{OUTPUT_DIR}/{subfolder}/{name}.{OUTPUT_FORMAT}\")\n",
        "\n",
        "def normalize_minmax(img):\n",
        "    mi, ma = img.min(), img.max()\n",
        "    return (img - mi) / (ma - mi)\n",
        "\n",
        "def prepare_image(img_path):\n",
        "    img_dicom = pydicom.read_file(img_path)\n",
        "    img_id = get_id(img_dicom)\n",
        "    metadata = get_metadata_from_dicom(img_dicom)\n",
        "    img = window_image(img_dicom.pixel_array, **metadata)\n",
        "    img = normalize_minmax(img) * 255\n",
        "    img_pil = resize(img, RESIZED_WIDTH, RESIZED_HEIGHT)\n",
        "    return img_id, img_pil\n",
        "\n",
        "def prepare_and_save(img_path, subfolder):\n",
        "    try:\n",
        "        img_id, img_pil = prepare_image(img_path)\n",
        "        save_img(img_pil, subfolder, img_id)\n",
        "    except KeyboardInterrupt:\n",
        "        # Rais interrupt exception so we can stop the cell execution\n",
        "        # without shutting down the kernel.\n",
        "        raise\n",
        "    except:\n",
        "        print(f\"Error processing the image: {img_path}\")\n",
        "\n",
        "def prepare_images(imgs_path, subfolder):\n",
        "    for i in tqdm.tqdm(imgs_path):\n",
        "        prepare_and_save(i, subfolder)\n",
        "\n",
        "def prepare_images_njobs(img_paths, subfolder, n_jobs=-1):\n",
        "    joblib.Parallel(n_jobs=n_jobs)(joblib.delayed(prepare_and_save)(i, subfolder) for i in tqdm.tqdm(img_paths))"
      ]
    },
    {
      "cell_type": "code",
      "execution_count": null,
      "metadata": {
        "id": "RNEWQR3WZlWD"
      },
      "outputs": [],
      "source": [
        "!mkdir -p {OUTPUT_DIR}/{train_dir}\n",
        "!mkdir -p {OUTPUT_DIR}/{test_dir}"
      ]
    },
    {
      "cell_type": "code",
      "execution_count": null,
      "metadata": {
        "colab": {
          "base_uri": "https://localhost:8080/",
          "height": 52
        },
        "id": "drIVljgkZoDR",
        "outputId": "d81555b1-d671-45a5-bb63-f649e3d1fdf7"
      },
      "outputs": [
        {
          "name": "stderr",
          "output_type": "stream",
          "text": [
            "100%|██████████| 674258/674258 [1:55:49<00:00, 97.03it/s]\n",
            "100%|██████████| 78545/78545 [13:14<00:00, 98.83it/s] \n"
          ]
        }
      ],
      "source": [
        "prepare_images_njobs(train_paths, train_dir)\n",
        "prepare_images_njobs(test_paths, test_dir)"
      ]
    },
    {
      "cell_type": "code",
      "execution_count": null,
      "metadata": {
        "id": "RD9B1SSsM2KM"
      },
      "outputs": [],
      "source": [
        "# Copy also extra files.\n",
        "!cp {input_dir}/stage_1_sample_submission.csv {OUTPUT_DIR}/\n",
        "!cp {input_dir}/stage_1_train.csv {OUTPUT_DIR}/"
      ]
    },
    {
      "cell_type": "markdown",
      "metadata": {
        "id": "jNQ2p7braBSq"
      },
      "source": [
        "# Load converted images\n",
        "\n",
        "Let's test that everything is ok!"
      ]
    },
    {
      "cell_type": "code",
      "execution_count": null,
      "metadata": {
        "colab": {
          "base_uri": "https://localhost:8080/",
          "height": 145
        },
        "id": "vswMH7giZxP0",
        "outputId": "c3e06bc0-f787-4c73-9229-40429ced03dc"
      },
      "outputs": [
        {
          "data": {
            "image/png": "[encoded data removed]",
            "text/plain": [
              "<PIL.PngImagePlugin.PngImageFile image mode=L size=128x128 at 0x7F6EB2E09898>"
            ]
          },
          "execution_count": 11,
          "metadata": {
            "tags": []
          },
          "output_type": "execute_result"
        }
      ],
      "source": [
        "train_output_path = glob.glob(f\"{OUTPUT_DIR}/{train_dir}/*\")\n",
        "img_path = train_output_path[0]\n",
        "PIL.Image.open(img_path)"
      ]
    },
    {
      "cell_type": "markdown",
      "metadata": {
        "id": "WYUtvvI7Ngmv"
      },
      "source": [
        "# Create Kaggle dataset"
      ]
    },
    {
      "cell_type": "code",
      "execution_count": null,
      "metadata": {
        "id": "GFXhRr_ORQ5e"
      },
      "outputs": [],
      "source": [
        "cmd = \"\"\"\n",
        "cat <<EOF > output/dataset-metadata.json\n",
        "{\n",
        "  \"title\": \"RSNA Train/Test png (128x128)\",\n",
        "  \"id\": \"guiferviz/rsna_png_128_128\",\n",
        "  \"licenses\": [\n",
        "    {\n",
        "      \"name\": \"CC0-1.0\"\n",
        "    }\n",
        "  ]\n",
        "}\n",
        "EOF\n",
        "\"\"\"\n",
        "!eval {cmd}"
      ]
    },
    {
      "cell_type": "code",
      "execution_count": null,
      "metadata": {
        "colab": {
          "base_uri": "https://localhost:8080/",
          "height": 173
        },
        "id": "RZb_CmSETp2G",
        "outputId": "97c508bc-aa02-42d0-da9f-80477eb3eb06"
      },
      "outputs": [
        {
          "name": "stdout",
          "output_type": "stream",
          "text": [
            "{\n",
            "  \"title\": \"RSNA Train/Test png (128x128)\",\n",
            "  \"id\": \"guiferviz/rsna_png_128_128\",\n",
            "  \"licenses\": [\n",
            "    {\n",
            "      \"name\": \"CC0-1.0\"\n",
            "    }\n",
            "  ]\n",
            "}\n"
          ]
        }
      ],
      "source": [
        "!cat output/dataset-metadata.json"
      ]
    },
    {
      "cell_type": "code",
      "execution_count": null,
      "metadata": {
        "colab": {
          "base_uri": "https://localhost:8080/",
          "height": 243
        },
        "id": "FvOsJFGPUt2m",
        "outputId": "3b9a9d90-45df-4272-c1be-a55937b83d4f"
      },
      "outputs": [
        {
          "name": "stdout",
          "output_type": "stream",
          "text": [
            "Starting upload for file stage_1_train.csv\n",
            "100% 102M/102M [00:13<00:00, 7.95MB/s] \n",
            "Upload successful: stage_1_train.csv (102MB)\n",
            "Starting upload for file stage_1_test_images.zip\n",
            "100% 353M/353M [00:17<00:00, 21.1MB/s]\n",
            "Upload successful: stage_1_test_images.zip (353MB)\n",
            "Starting upload for file stage_1_sample_submission.csv\n",
            "100% 12.8M/12.8M [00:08<00:00, 1.54MB/s]\n",
            "Upload successful: stage_1_sample_submission.csv (13MB)\n",
            "Starting upload for file stage_1_train_images.zip\n",
            "100% 2.87G/2.87G [01:16<00:00, 40.5MB/s]\n",
            "Upload successful: stage_1_train_images.zip (3GB)\n",
            "Your private Dataset is being created. Please check progress at https://www.kaggle.com/guiferviz/rsna_png_128_128\n"
          ]
        }
      ],
      "source": [
        "!kaggle datasets create -u --dir-mode zip -p {OUTPUT_DIR}"
      ]
    }
  ],
  "metadata": {
    "accelerator": "GPU",
    "colab": {
      "name": "Copy of Resize dataset.ipynb",
      "provenance": []
    },
    "kernelspec": {
      "display_name": "Python 3",
      "name": "python3"
    }
  },
  "nbformat": 4,
  "nbformat_minor": 0
}