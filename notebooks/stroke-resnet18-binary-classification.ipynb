{
 "cells": [
  {
   "cell_type": "raw",
   "id": "da61d053",
   "metadata": {
    "_cell_guid": "b1076dfc-b9ad-4769-8c92-a6c4dae69d19",
    "_uuid": "8f2839f25d086af736a60e9eeb907d3b93b6e0e5",
    "papermill": {
     "duration": 0.01873,
     "end_time": "2021-11-08T10:14:18.499719",
     "exception": false,
     "start_time": "2021-11-08T10:14:18.480989",
     "status": "completed"
    },
    "tags": []
   },
   "source": []
  },
  {
   "cell_type": "code",
   "execution_count": 1,
   "id": "1610d298",
   "metadata": {
    "execution": {
     "iopub.execute_input": "2021-11-08T10:14:18.537670Z",
     "iopub.status.busy": "2021-11-08T10:14:18.536104Z",
     "iopub.status.idle": "2021-11-08T10:14:36.210601Z",
     "shell.execute_reply": "2021-11-08T10:14:36.209701Z"
    },
    "papermill": {
     "duration": 17.693922,
     "end_time": "2021-11-08T10:14:36.210761",
     "exception": false,
     "start_time": "2021-11-08T10:14:18.516839",
     "status": "completed"
    },
    "tags": []
   },
   "outputs": [
    {
     "name": "stdout",
     "output_type": "stream",
     "text": [
      "Collecting git+https://github.com/qubvel/classification_models.git\r\n",
      "  Cloning https://github.com/qubvel/classification_models.git to /tmp/pip-req-build-xzyns_pn\r\n",
      "  Running command git clone -q https://github.com/qubvel/classification_models.git /tmp/pip-req-build-xzyns_pn\r\n",
      "  Resolved https://github.com/qubvel/classification_models.git to commit a0f006e05485a34ccf871c421279864b0ccd220b\r\n",
      "  Running command git submodule update --init --recursive -q\r\n",
      "Collecting keras_applications<=1.0.8,>=1.0.7\r\n",
      "  Downloading Keras_Applications-1.0.8-py3-none-any.whl (50 kB)\r\n",
      "\u001b[K     |████████████████████████████████| 50 kB 2.6 MB/s \r\n",
      "\u001b[?25hRequirement already satisfied: h5py in /opt/conda/lib/python3.7/site-packages (from keras_applications<=1.0.8,>=1.0.7->image-classifiers==1.0.0) (3.1.0)\r\n",
      "Requirement already satisfied: numpy>=1.9.1 in /opt/conda/lib/python3.7/site-packages (from keras_applications<=1.0.8,>=1.0.7->image-classifiers==1.0.0) (1.19.5)\r\n",
      "Requirement already satisfied: cached-property in /opt/conda/lib/python3.7/site-packages (from h5py->keras_applications<=1.0.8,>=1.0.7->image-classifiers==1.0.0) (1.5.2)\r\n",
      "Building wheels for collected packages: image-classifiers\r\n",
      "  Building wheel for image-classifiers (setup.py) ... \u001b[?25l-\b \b\\\b \bdone\r\n",
      "\u001b[?25h  Created wheel for image-classifiers: filename=image_classifiers-1.0.0-py3-none-any.whl size=20045 sha256=f36230a4bda6793207416d3e89a1479dea79822e894d1ff1a41619a33e68d592\r\n",
      "  Stored in directory: /tmp/pip-ephem-wheel-cache-4c216vnp/wheels/0b/96/56/27b17c903efc647c51e4f364bfc20aa67f8d3dccad63c4fb4e\r\n",
      "Successfully built image-classifiers\r\n",
      "Installing collected packages: keras-applications, image-classifiers\r\n",
      "Successfully installed image-classifiers-1.0.0 keras-applications-1.0.8\r\n",
      "\u001b[33mWARNING: Running pip as the 'root' user can result in broken permissions and conflicting behaviour with the system package manager. It is recommended to use a virtual environment instead: https://pip.pypa.io/warnings/venv\u001b[0m\r\n"
     ]
    }
   ],
   "source": [
    "!pip install git+https://github.com/qubvel/classification_models.git\n",
    "\n",
    "\n",
    "\n",
    "\n",
    "import numpy as np\n",
    "import pandas as pd\n",
    "import matplotlib.pyplot as plt\n",
    "import os\n",
    "import random\n",
    "import cv2\n",
    "import tensorflow as tf\n",
    "\n",
    "from math import ceil, floor\n",
    "from copy import deepcopy\n",
    "from tqdm.notebook import tqdm\n",
    "from imgaug import augmenters as iaa\n",
    "\n",
    "import tensorflow.keras as keras\n",
    "import tensorflow.keras.backend as K\n",
    "from tensorflow.keras.callbacks import Callback, ModelCheckpoint\n",
    "from tensorflow.keras.layers import Dense, Flatten, Dropout\n",
    "from tensorflow.keras.models import Model, load_model\n",
    "from tensorflow.keras.utils import Sequence\n",
    "from tensorflow.keras.losses import binary_crossentropy\n",
    "from tensorflow.keras.optimizers import Adam\n",
    "from tensorflow.keras.metrics import AUC, Recall, Precision, BinaryCrossentropy\n",
    "from classification_models.tfkeras import Classifiers\n",
    "from tensorflow.keras.layers import *\n",
    "from sklearn.utils.class_weight import compute_class_weight\n",
    "\n",
    "def calculating_class_weights(y_true):\n",
    "    number_dim = np.shape(y_true)[1]\n",
    "    weights = np.empty([number_dim, 2])\n",
    "    for i in range(number_dim):\n",
    "        weights[i] = compute_class_weight('balanced', classes=np.unique(y_true[:, i]), y=y_true[:, i])\n",
    "    return weights\n",
    "\n",
    "\n",
    "def ModelCheckpointFull(model_name):\n",
    "    return ModelCheckpoint(model_name, \n",
    "                            monitor = 'val_accuracy', \n",
    "                            verbose = 1, \n",
    "                            save_best_only = True, \n",
    "                            save_weights_only = True, \n",
    "                            mode = 'max', \n",
    "                            period = 1)\n",
    "\n",
    "# Create Model\n",
    "def create_model(num_classes):\n",
    "    K.clear_session()\n",
    "    \n",
    "#     SE_resnext101, preprocess_input = Classifiers.get('seresnext101')\n",
    "#     engine = SE_resnext101(include_top=False,\n",
    "#                            input_shape=(256, 256, 3),\n",
    "#                            backend = tf.keras.backend,\n",
    "#                            layers = tf.keras.layers,\n",
    "#                            models = tf.keras.models,\n",
    "#                            utils = tf.keras.utils,\n",
    "#                           weights = 'imagenet')\n",
    "## resNet18\n",
    "    mobileNet, preprocess_input = Classifiers.get('resnet18')\n",
    "    engine = mobileNet(include_top=False,\n",
    "                           input_shape=(256, 256, 3),\n",
    "                           backend = tf.keras.backend,\n",
    "                           layers = tf.keras.layers,\n",
    "                           models = tf.keras.models,\n",
    "                           utils = tf.keras.utils,\n",
    "                          weights = 'imagenet')\n",
    "##\n",
    "    x = GlobalAveragePooling2D(name='avg_pool')(engine.output)\n",
    "    x = Dropout(0.15)(x)\n",
    "    out = Dense(num_classes, activation='sigmoid', name='new_output')(x)\n",
    "    model = Model(inputs=engine.input, outputs=out)\n",
    "\n",
    "    return model\n",
    "\n",
    "def metrics_define(num_classes):\n",
    "    metrics_all = ['accuracy',\n",
    "    AUC(curve='PR',multi_label=True,name='auc_pr'),\n",
    "    AUC(multi_label=True, name='auc_roc')\n",
    "    ]\n",
    "\n",
    "    return metrics_all\n",
    "\n",
    "def get_weighted_loss(weights):\n",
    "    def weighted_loss(y_true, y_pred):\n",
    "        return K.mean((weights[:,0]**(1-y_true))*(weights[:,1]**(y_true))*K.binary_crossentropy(y_true, y_pred), axis=-1)\n",
    "    return weighted_loss"
   ]
  },
  {
   "cell_type": "code",
   "execution_count": 2,
   "id": "839bfed5",
   "metadata": {
    "execution": {
     "iopub.execute_input": "2021-11-08T10:14:36.258611Z",
     "iopub.status.busy": "2021-11-08T10:14:36.257880Z",
     "iopub.status.idle": "2021-11-08T10:14:36.334608Z",
     "shell.execute_reply": "2021-11-08T10:14:36.334109Z"
    },
    "papermill": {
     "duration": 0.105183,
     "end_time": "2021-11-08T10:14:36.334743",
     "exception": false,
     "start_time": "2021-11-08T10:14:36.229560",
     "status": "completed"
    },
    "tags": []
   },
   "outputs": [],
   "source": [
    "import pydicom\n",
    "\n",
    "def correct_dcm(dcm):\n",
    "    x = dcm.pixel_array + 1000\n",
    "    px_mode = 4096\n",
    "    x[x>=px_mode] = x[x>=px_mode] - px_mode\n",
    "    dcm.PixelData = x.tobytes()\n",
    "    dcm.RescaleIntercept = -1000\n",
    "\n",
    "def window_image(dcm, window_center, window_width):    \n",
    "    if (dcm.BitsStored == 12) and (dcm.PixelRepresentation == 0) and (int(dcm.RescaleIntercept) > -100):\n",
    "        correct_dcm(dcm)\n",
    "    img = dcm.pixel_array * dcm.RescaleSlope + dcm.RescaleIntercept\n",
    "    img = cv2.resize(img, SHAPE[:2], interpolation = cv2.INTER_LINEAR)\n",
    "    img_min = window_center - window_width // 2\n",
    "    img_max = window_center + window_width // 2\n",
    "    img = np.clip(img, img_min, img_max)\n",
    "    return img\n",
    "\n",
    "def bsb_window(dcm):\n",
    "    brain_img = window_image(dcm, 40, 80)\n",
    "    subdural_img = window_image(dcm, 80, 200)\n",
    "    brain_img = (brain_img - 0) / 80\n",
    "    subdural_img = (subdural_img - (-20)) / 200\n",
    "    soft_img = window_image(dcm, 40, 380)\n",
    "    soft_img = (soft_img - (-150)) / 380\n",
    "    bsb_img = np.array([brain_img, subdural_img, soft_img]).transpose(1,2,0)\n",
    "    return bsb_img\n",
    "\n",
    "def _read_dicom(path, SHAPE):\n",
    "    dcm = pydicom.dcmread(path)\n",
    "    try:\n",
    "        img = bsb_window(dcm)\n",
    "    except:\n",
    "        img = np.zeros(SHAPE)\n",
    "    return img"
   ]
  },
  {
   "cell_type": "code",
   "execution_count": 3,
   "id": "975c1e03",
   "metadata": {
    "execution": {
     "iopub.execute_input": "2021-11-08T10:14:36.389157Z",
     "iopub.status.busy": "2021-11-08T10:14:36.388277Z",
     "iopub.status.idle": "2021-11-08T10:14:36.390047Z",
     "shell.execute_reply": "2021-11-08T10:14:36.390575Z"
    },
    "papermill": {
     "duration": 0.03776,
     "end_time": "2021-11-08T10:14:36.390746",
     "exception": false,
     "start_time": "2021-11-08T10:14:36.352986",
     "status": "completed"
    },
    "tags": []
   },
   "outputs": [],
   "source": [
    "def _read_png(path, SHAPE):\n",
    "    img = cv2.imread(path)\n",
    "    img = cv2.resize(img, dsize=(256, 256))\n",
    "    return img/255.0\n",
    "\n",
    "# Image Augmentation\n",
    "sometimes = lambda aug: iaa.Sometimes(0.25, aug)\n",
    "augmentation = iaa.Sequential([ iaa.Fliplr(0.25),\n",
    "                                iaa.Flipud(0.10),\n",
    "                                sometimes(iaa.Crop(px=(0, 25), keep_size = True, sample_independently = False))   \n",
    "                            ], random_order = True)       \n",
    "        \n",
    "# Generators\n",
    "class TrainDataGenerator(keras.utils.Sequence):\n",
    "    def __init__(self, dataset, class_names, batch_size = 16, img_size = (256, 256, 3), \n",
    "                 augment = False, shuffle = True, *args, **kwargs):\n",
    "        self.dataset = dataset\n",
    "        self.ids = self.dataset['imgfile'].values\n",
    "        self.labels = self.dataset[class_names].values\n",
    "        self.batch_size = batch_size\n",
    "        self.img_size = img_size\n",
    "        self.augment = augment\n",
    "        self.shuffle = shuffle\n",
    "        self.on_epoch_end()\n",
    "\n",
    "    def __len__(self):\n",
    "        return int(ceil(len(self.ids) / self.batch_size))\n",
    "\n",
    "    def __getitem__(self, index):\n",
    "        indices = self.indices[index*self.batch_size:(index+1)*self.batch_size]\n",
    "        X, Y = self.__data_generation(indices)\n",
    "        return X, Y\n",
    "\n",
    "    def augmentor(self, image):\n",
    "        augment_img = augmentation        \n",
    "        image_aug = augment_img.augment_image(image)\n",
    "        return image_aug\n",
    "\n",
    "    def on_epoch_end(self):\n",
    "        self.indices = np.arange(len(self.ids))\n",
    "        if self.shuffle:\n",
    "            np.random.shuffle(self.indices)\n",
    "\n",
    "    def __data_generation(self, indices):\n",
    "        X = np.empty((self.batch_size, *self.img_size))\n",
    "        Y = np.empty((self.batch_size, len(class_names)), dtype=np.float32)\n",
    "        \n",
    "        for i, index in enumerate(indices):\n",
    "            ID = self.ids[index]\n",
    "            if '.png' not in ID:\n",
    "                image = _read_dicom('../input/rsna-intracranial-hemorrhage-detection/rsna-intracranial-hemorrhage-detection/stage_2_train/'+ID+'.dcm', self.img_size)\n",
    "            else:\n",
    "                if 'NonHemo' in ID:\n",
    "                    image = _read_png('../input/cq500-normal-images-and-labels/'+ID, self.img_size)\n",
    "                else:\n",
    "                    if 'content' in ID:\n",
    "                        ID = ID[9:]\n",
    "                    image = _read_png('../input/rsna-cq500-abnormal-data/'+ID, self.img_size)\n",
    "            if self.augment:\n",
    "                X[i,] = self.augmentor(image)\n",
    "            else:\n",
    "                X[i,] = image\n",
    "            Y[i,] = self.labels[index]        \n",
    "        return X, Y"
   ]
  },
  {
   "cell_type": "code",
   "execution_count": 4,
   "id": "914b8c36",
   "metadata": {
    "execution": {
     "iopub.execute_input": "2021-11-08T10:14:36.439601Z",
     "iopub.status.busy": "2021-11-08T10:14:36.438802Z",
     "iopub.status.idle": "2021-11-08T10:14:36.531463Z",
     "shell.execute_reply": "2021-11-08T10:14:36.530584Z"
    },
    "papermill": {
     "duration": 0.122319,
     "end_time": "2021-11-08T10:14:36.531649",
     "exception": false,
     "start_time": "2021-11-08T10:14:36.409330",
     "status": "completed"
    },
    "tags": []
   },
   "outputs": [],
   "source": [
    "from prettytable import PrettyTable\n",
    "from sklearn import metrics\n",
    "from sklearn.metrics import roc_auc_score, accuracy_score, precision_score, recall_score, f1_score\n",
    "from sklearn.metrics import precision_recall_curve\n",
    "from sklearn.metrics import average_precision_score\n",
    "from sklearn.metrics import roc_curve, auc, roc_auc_score\n",
    "from sklearn.metrics import multilabel_confusion_matrix\n",
    "from sklearn.metrics import confusion_matrix, ConfusionMatrixDisplay\n",
    "import seaborn as sns\n",
    "\n",
    "\n",
    "def print_confusion_matrix(y_test, y_pred, class_names):\n",
    "    matrix = confusion_matrix(y_test, y_pred)\n",
    "    plt.figure(figsize=(6, 4))\n",
    "    cm = matrix.astype('float') / matrix.sum(axis=1)[:, np.newaxis]\n",
    "    sns.heatmap(cm,cmap='crest',linecolor='white',linewidths=1,annot=True, xticklabels = class_names, yticklabels = class_names)\n",
    "    plt.title('Confusion Matrix')\n",
    "    plt.ylabel('True Label')\n",
    "    plt.xlabel('Predicted Label')\n",
    "    plt.show()\n",
    "\n",
    "def print_performance_metrics(y_test, y_pred, class_names):\n",
    "    print('Accuracy:', np.round(metrics.accuracy_score(y_test, y_pred),4))\n",
    "    print('Precision:', np.round(metrics.precision_score(y_test, y_pred, average='weighted'),4))\n",
    "    print('Recall:', np.round(metrics.recall_score(y_test, y_pred, average='weighted'),4))\n",
    "    print('F1 Score:', np.round(metrics.f1_score(y_test, y_pred, average='weighted'),4))\n",
    "    print('Cohen Kappa Score:', np.round(metrics.cohen_kappa_score(y_test, y_pred), 4))\n",
    "    print('Matthews Corrcoef:', np.round(metrics.matthews_corrcoef(y_test, y_pred), 4))\n",
    "    if len(np.unique(y_test)) == 2:\n",
    "        print('ROC AUC:',roc_auc_score(y_test,y_pred))\n",
    "    print('\\t\\tClassification Report:\\n', metrics.classification_report(y_test, y_pred, target_names=class_names))"
   ]
  },
  {
   "cell_type": "code",
   "execution_count": 5,
   "id": "c46841fd",
   "metadata": {
    "execution": {
     "iopub.execute_input": "2021-11-08T10:14:36.574608Z",
     "iopub.status.busy": "2021-11-08T10:14:36.573934Z",
     "iopub.status.idle": "2021-11-08T10:14:38.404694Z",
     "shell.execute_reply": "2021-11-08T10:14:38.403758Z"
    },
    "papermill": {
     "duration": 1.854218,
     "end_time": "2021-11-08T10:14:38.404842",
     "exception": false,
     "start_time": "2021-11-08T10:14:36.550624",
     "status": "completed"
    },
    "tags": []
   },
   "outputs": [],
   "source": [
    "from sklearn.utils import shuffle\n",
    "\n",
    "train_df = pd.read_csv('../input/cq500-normal-images-and-labels/NormalAbnormal/NormalAbnormal/Train_f1.csv')\n",
    "abnormal = train_df.loc[train_df['Abnormal']==1]\n",
    "train_df = train_df.append(abnormal, ignore_index=True)\n",
    "train_df = shuffle(train_df)\n",
    "\n",
    "val_df = pd.read_csv('../input/cq500-normal-images-and-labels/NormalAbnormal/NormalAbnormal/Validation_f1.csv')"
   ]
  },
  {
   "cell_type": "code",
   "execution_count": 6,
   "id": "ada39ef6",
   "metadata": {
    "execution": {
     "iopub.execute_input": "2021-11-08T10:14:38.456571Z",
     "iopub.status.busy": "2021-11-08T10:14:38.455333Z",
     "iopub.status.idle": "2021-11-08T10:14:39.045220Z",
     "shell.execute_reply": "2021-11-08T10:14:39.044740Z"
    },
    "papermill": {
     "duration": 0.621514,
     "end_time": "2021-11-08T10:14:39.045347",
     "exception": false,
     "start_time": "2021-11-08T10:14:38.423833",
     "status": "completed"
    },
    "tags": []
   },
   "outputs": [
    {
     "name": "stdout",
     "output_type": "stream",
     "text": [
      "[[2.02963727 0.66343744]\n",
      " [0.66343744 2.02963727]]\n",
      "2625\n",
      "287\n"
     ]
    }
   ],
   "source": [
    "HEIGHT = 256\n",
    "WIDTH = 256\n",
    "CHANNELS = 3\n",
    "TRAIN_BATCH_SIZE = 32\n",
    "VALID_BATCH_SIZE = 64\n",
    "SHAPE = (HEIGHT, WIDTH, CHANNELS)\n",
    "\n",
    "class_names = ['Normal', 'Abnormal']\n",
    "\n",
    "weights = calculating_class_weights((train_df[class_names].values).astype(np.float32))\n",
    "print(weights)\n",
    "\n",
    "data_generator_train = TrainDataGenerator(train_df,\n",
    "                                          class_names,\n",
    "                                          TRAIN_BATCH_SIZE,\n",
    "                                          SHAPE,\n",
    "                                          augment = True,\n",
    "                                          shuffle = True)\n",
    "data_generator_val = TrainDataGenerator(val_df,\n",
    "                                        class_names, \n",
    "                                        VALID_BATCH_SIZE, \n",
    "                                        SHAPE,\n",
    "                                        augment = False,\n",
    "                                        shuffle = True\n",
    "                                        )\n",
    "\n",
    "TRAIN_STEPS = int(len(data_generator_train)/10)\n",
    "print(TRAIN_STEPS)\n",
    "Val_STEPS = int(len(data_generator_val)/10)\n",
    "print(Val_STEPS)\n",
    "LR = 1e-6"
   ]
  },
  {
   "cell_type": "code",
   "execution_count": 7,
   "id": "69217d48",
   "metadata": {
    "execution": {
     "iopub.execute_input": "2021-11-08T10:14:39.090325Z",
     "iopub.status.busy": "2021-11-08T10:14:39.089706Z",
     "iopub.status.idle": "2021-11-08T10:14:42.726352Z",
     "shell.execute_reply": "2021-11-08T10:14:42.725893Z"
    },
    "papermill": {
     "duration": 3.660876,
     "end_time": "2021-11-08T10:14:42.726516",
     "exception": false,
     "start_time": "2021-11-08T10:14:39.065640",
     "status": "completed"
    },
    "tags": []
   },
   "outputs": [
    {
     "name": "stderr",
     "output_type": "stream",
     "text": [
      "2021-11-08 10:14:39.174510: I tensorflow/stream_executor/cuda/cuda_gpu_executor.cc:937] successful NUMA node read from SysFS had negative value (-1), but there must be at least one NUMA node, so returning NUMA node zero\n",
      "2021-11-08 10:14:39.287929: I tensorflow/stream_executor/cuda/cuda_gpu_executor.cc:937] successful NUMA node read from SysFS had negative value (-1), but there must be at least one NUMA node, so returning NUMA node zero\n",
      "2021-11-08 10:14:39.288701: I tensorflow/stream_executor/cuda/cuda_gpu_executor.cc:937] successful NUMA node read from SysFS had negative value (-1), but there must be at least one NUMA node, so returning NUMA node zero\n",
      "2021-11-08 10:14:39.290081: I tensorflow/core/platform/cpu_feature_guard.cc:142] This TensorFlow binary is optimized with oneAPI Deep Neural Network Library (oneDNN) to use the following CPU instructions in performance-critical operations:  AVX2 AVX512F FMA\n",
      "To enable them in other operations, rebuild TensorFlow with the appropriate compiler flags.\n",
      "2021-11-08 10:14:39.291279: I tensorflow/stream_executor/cuda/cuda_gpu_executor.cc:937] successful NUMA node read from SysFS had negative value (-1), but there must be at least one NUMA node, so returning NUMA node zero\n",
      "2021-11-08 10:14:39.292280: I tensorflow/stream_executor/cuda/cuda_gpu_executor.cc:937] successful NUMA node read from SysFS had negative value (-1), but there must be at least one NUMA node, so returning NUMA node zero\n",
      "2021-11-08 10:14:39.293285: I tensorflow/stream_executor/cuda/cuda_gpu_executor.cc:937] successful NUMA node read from SysFS had negative value (-1), but there must be at least one NUMA node, so returning NUMA node zero\n",
      "2021-11-08 10:14:41.062368: I tensorflow/stream_executor/cuda/cuda_gpu_executor.cc:937] successful NUMA node read from SysFS had negative value (-1), but there must be at least one NUMA node, so returning NUMA node zero\n",
      "2021-11-08 10:14:41.063245: I tensorflow/stream_executor/cuda/cuda_gpu_executor.cc:937] successful NUMA node read from SysFS had negative value (-1), but there must be at least one NUMA node, so returning NUMA node zero\n",
      "2021-11-08 10:14:41.063953: I tensorflow/stream_executor/cuda/cuda_gpu_executor.cc:937] successful NUMA node read from SysFS had negative value (-1), but there must be at least one NUMA node, so returning NUMA node zero\n",
      "2021-11-08 10:14:41.064566: I tensorflow/core/common_runtime/gpu/gpu_device.cc:1510] Created device /job:localhost/replica:0/task:0/device:GPU:0 with 15403 MB memory:  -> device: 0, name: Tesla P100-PCIE-16GB, pci bus id: 0000:00:04.0, compute capability: 6.0\n"
     ]
    },
    {
     "name": "stdout",
     "output_type": "stream",
     "text": [
      "Downloading data from https://github.com/qubvel/classification_models/releases/download/0.0.1/resnet18_imagenet_1000_no_top.h5\n",
      "44924928/44920640 [==============================] - 0s 0us/step\n",
      "44933120/44920640 [==============================] - 0s 0us/step\n"
     ]
    }
   ],
   "source": [
    "Metrics = metrics_define(len(class_names))\n",
    "model = create_model(len(class_names))\n",
    "# model.load_weights('../input/stroke-binary-classification-model/model_alldata_retrain_f1_run2.h5')\n",
    "model.compile(optimizer = Adam(learning_rate = LR),\n",
    "              loss = get_weighted_loss(weights),\n",
    "              metrics = Metrics)"
   ]
  },
  {
   "cell_type": "code",
   "execution_count": 8,
   "id": "3a030a35",
   "metadata": {
    "execution": {
     "iopub.execute_input": "2021-11-08T10:14:42.776676Z",
     "iopub.status.busy": "2021-11-08T10:14:42.775937Z",
     "iopub.status.idle": "2021-11-08T12:39:14.053314Z",
     "shell.execute_reply": "2021-11-08T12:39:14.052599Z"
    },
    "papermill": {
     "duration": 8671.305027,
     "end_time": "2021-11-08T12:39:14.053520",
     "exception": false,
     "start_time": "2021-11-08T10:14:42.748493",
     "status": "completed"
    },
    "tags": []
   },
   "outputs": [
    {
     "name": "stderr",
     "output_type": "stream",
     "text": [
      "2021-11-08 10:14:43.652780: I tensorflow/compiler/mlir/mlir_graph_optimization_pass.cc:185] None of the MLIR Optimization Passes are enabled (registered 2)\n"
     ]
    },
    {
     "name": "stdout",
     "output_type": "stream",
     "text": [
      "Epoch 1/10\n"
     ]
    },
    {
     "name": "stderr",
     "output_type": "stream",
     "text": [
      "2021-11-08 10:14:49.876851: I tensorflow/stream_executor/cuda/cuda_dnn.cc:369] Loaded cuDNN version 8005\n"
     ]
    },
    {
     "name": "stdout",
     "output_type": "stream",
     "text": [
      "2625/2625 [==============================] - 851s 320ms/step - loss: 0.6399 - accuracy: 0.6526 - auc_pr: 0.7234 - auc_roc: 0.7737 - val_loss: 0.4499 - val_accuracy: 0.6905 - val_auc_pr: 0.7625 - val_auc_roc: 0.8723\n",
      "\n",
      "Epoch 00001: val_accuracy improved from -inf to 0.69055, saving model to resNet_alldata_retrain_f1_run3.h5\n",
      "Epoch 2/10\n",
      "2625/2625 [==============================] - 915s 348ms/step - loss: 0.4739 - accuracy: 0.7593 - auc_pr: 0.8133 - auc_roc: 0.8592 - val_loss: 0.3687 - val_accuracy: 0.7867 - val_auc_pr: 0.8050 - val_auc_roc: 0.8974\n",
      "\n",
      "Epoch 00002: val_accuracy improved from 0.69055 to 0.78675, saving model to resNet_alldata_retrain_f1_run3.h5\n",
      "Epoch 3/10\n",
      "2625/2625 [==============================] - 919s 350ms/step - loss: 0.4387 - accuracy: 0.7967 - auc_pr: 0.8385 - auc_roc: 0.8791 - val_loss: 0.3384 - val_accuracy: 0.8175 - val_auc_pr: 0.8274 - val_auc_roc: 0.9088\n",
      "\n",
      "Epoch 00003: val_accuracy improved from 0.78675 to 0.81745, saving model to resNet_alldata_retrain_f1_run3.h5\n",
      "Epoch 4/10\n",
      "2625/2625 [==============================] - 869s 331ms/step - loss: 0.4210 - accuracy: 0.8109 - auc_pr: 0.8526 - auc_roc: 0.8891 - val_loss: 0.3271 - val_accuracy: 0.8263 - val_auc_pr: 0.8360 - val_auc_roc: 0.9142\n",
      "\n",
      "Epoch 00004: val_accuracy improved from 0.81745 to 0.82633, saving model to resNet_alldata_retrain_f1_run3.h5\n",
      "Epoch 5/10\n",
      "2625/2625 [==============================] - 844s 321ms/step - loss: 0.4076 - accuracy: 0.8167 - auc_pr: 0.8613 - auc_roc: 0.8958 - val_loss: 0.3069 - val_accuracy: 0.8547 - val_auc_pr: 0.8466 - val_auc_roc: 0.9206\n",
      "\n",
      "Epoch 00005: val_accuracy improved from 0.82633 to 0.85469, saving model to resNet_alldata_retrain_f1_run3.h5\n",
      "Epoch 6/10\n",
      "2625/2625 [==============================] - 841s 320ms/step - loss: 0.3921 - accuracy: 0.8273 - auc_pr: 0.8714 - auc_roc: 0.9038 - val_loss: 0.3039 - val_accuracy: 0.8489 - val_auc_pr: 0.8562 - val_auc_roc: 0.9227\n",
      "\n",
      "Epoch 00006: val_accuracy did not improve from 0.85469\n",
      "Epoch 7/10\n",
      "2625/2625 [==============================] - 846s 322ms/step - loss: 0.3860 - accuracy: 0.8317 - auc_pr: 0.8759 - auc_roc: 0.9069 - val_loss: 0.2986 - val_accuracy: 0.8556 - val_auc_pr: 0.8514 - val_auc_roc: 0.9226\n",
      "\n",
      "Epoch 00007: val_accuracy improved from 0.85469 to 0.85562, saving model to resNet_alldata_retrain_f1_run3.h5\n",
      "Epoch 8/10\n",
      "2625/2625 [==============================] - 855s 325ms/step - loss: 0.3710 - accuracy: 0.8379 - auc_pr: 0.8855 - auc_roc: 0.9143 - val_loss: 0.3038 - val_accuracy: 0.8506 - val_auc_pr: 0.8544 - val_auc_roc: 0.9223\n",
      "\n",
      "Epoch 00008: val_accuracy did not improve from 0.85562\n",
      "Epoch 9/10\n",
      "2625/2625 [==============================] - 838s 319ms/step - loss: 0.3701 - accuracy: 0.8411 - auc_pr: 0.8891 - auc_roc: 0.9157 - val_loss: 0.2793 - val_accuracy: 0.8668 - val_auc_pr: 0.8683 - val_auc_roc: 0.9318\n",
      "\n",
      "Epoch 00009: val_accuracy improved from 0.85562 to 0.86678, saving model to resNet_alldata_retrain_f1_run3.h5\n",
      "Epoch 10/10\n",
      "2625/2625 [==============================] - 841s 320ms/step - loss: 0.3596 - accuracy: 0.8456 - auc_pr: 0.8934 - auc_roc: 0.9202 - val_loss: 0.2753 - val_accuracy: 0.8620 - val_auc_pr: 0.8740 - val_auc_roc: 0.9371\n",
      "\n",
      "Epoch 00010: val_accuracy did not improve from 0.86678\n"
     ]
    }
   ],
   "source": [
    "history = model.fit(data_generator_train,\n",
    "                    validation_data = data_generator_val,\n",
    "                    validation_steps = Val_STEPS,\n",
    "                    steps_per_epoch = TRAIN_STEPS,\n",
    "                    epochs = 10,\n",
    "                    callbacks = [ModelCheckpointFull('resNet_alldata_retrain_f1_run3.h5')],\n",
    "                    verbose = 1, workers=4\n",
    "                    )"
   ]
  },
  {
   "cell_type": "code",
   "execution_count": 9,
   "id": "15aeddc7",
   "metadata": {
    "execution": {
     "iopub.execute_input": "2021-11-08T12:39:28.676507Z",
     "iopub.status.busy": "2021-11-08T12:39:28.675668Z",
     "iopub.status.idle": "2021-11-08T12:39:28.944544Z",
     "shell.execute_reply": "2021-11-08T12:39:28.944964Z"
    },
    "papermill": {
     "duration": 7.954715,
     "end_time": "2021-11-08T12:39:28.945110",
     "exception": false,
     "start_time": "2021-11-08T12:39:20.990395",
     "status": "completed"
    },
    "tags": []
   },
   "outputs": [
    {
     "data": {
      "image/png": "[encoded data removed]",
      "text/plain": [
       "<Figure size 432x288 with 1 Axes>"
      ]
     },
     "metadata": {
      "needs_background": "light"
     },
     "output_type": "display_data"
    }
   ],
   "source": [
    "plt.plot(history.history['loss'])\n",
    "plt.plot(history.history['val_loss'])\n",
    "plt.title('model loss')\n",
    "plt.ylabel('loss')\n",
    "plt.xlabel('epoch')\n",
    "plt.legend(['train', 'val'], loc='upper left')\n",
    "plt.show()"
   ]
  },
  {
   "cell_type": "code",
   "execution_count": 10,
   "id": "95d5ed71",
   "metadata": {
    "execution": {
     "iopub.execute_input": "2021-11-08T12:39:43.111632Z",
     "iopub.status.busy": "2021-11-08T12:39:43.108625Z",
     "iopub.status.idle": "2021-11-08T12:39:43.265201Z",
     "shell.execute_reply": "2021-11-08T12:39:43.264760Z"
    },
    "papermill": {
     "duration": 7.145006,
     "end_time": "2021-11-08T12:39:43.265327",
     "exception": false,
     "start_time": "2021-11-08T12:39:36.120321",
     "status": "completed"
    },
    "tags": []
   },
   "outputs": [
    {
     "data": {
      "image/png": "[encoded data removed]",
      "text/plain": [
       "<Figure size 432x288 with 1 Axes>"
      ]
     },
     "metadata": {
      "needs_background": "light"
     },
     "output_type": "display_data"
    }
   ],
   "source": [
    "plt.plot(history.history['accuracy'])\n",
    "plt.plot(history.history['val_accuracy'])\n",
    "plt.title('model auc_accuracy')\n",
    "plt.ylabel('accuracy')\n",
    "plt.xlabel('epoch')\n",
    "plt.legend(['train', 'val'], loc='upper left')\n",
    "plt.show()"
   ]
  },
  {
   "cell_type": "code",
   "execution_count": 11,
   "id": "600a4a05",
   "metadata": {
    "execution": {
     "iopub.execute_input": "2021-11-08T12:39:58.206436Z",
     "iopub.status.busy": "2021-11-08T12:39:58.205866Z",
     "iopub.status.idle": "2021-11-08T12:52:03.574362Z",
     "shell.execute_reply": "2021-11-08T12:52:03.574845Z"
    },
    "papermill": {
     "duration": 733.030415,
     "end_time": "2021-11-08T12:52:03.575026",
     "exception": false,
     "start_time": "2021-11-08T12:39:50.544611",
     "status": "completed"
    },
    "tags": []
   },
   "outputs": [
    {
     "name": "stdout",
     "output_type": "stream",
     "text": [
      "51144\n",
      "800/800 [==============================] - 724s 905ms/step\n"
     ]
    }
   ],
   "source": [
    "val_df = pd.read_csv('../input/cq500-normal-images-and-labels/NormalAbnormal/NormalAbnormal/Validation_f1.csv')\n",
    "abnormal = val_df.loc[val_df['Abnormal']==1]\n",
    "normal = val_df.loc[val_df['Normal']==1]\n",
    "normal=shuffle(normal)\n",
    "normal = normal.iloc[0:len(abnormal)]\n",
    "val_df = abnormal.append(normal, ignore_index=True)\n",
    "val_df = shuffle(val_df)\n",
    "print(len(val_df))\n",
    "\n",
    "HEIGHT = 256\n",
    "WIDTH = 256\n",
    "CHANNELS = 3\n",
    "VALID_BATCH_SIZE = 64\n",
    "SHAPE = (HEIGHT, WIDTH, CHANNELS)\n",
    "\n",
    "class_names = ['Normal', 'Abnormal']\n",
    "data_generator_test = TrainDataGenerator(val_df,\n",
    "                                        class_names, \n",
    "                                        VALID_BATCH_SIZE, \n",
    "                                        SHAPE,\n",
    "                                        augment = False,\n",
    "                                        shuffle = False\n",
    "                                        )\n",
    "\n",
    "y_true = val_df[class_names].values\n",
    "y_hat = model.predict(data_generator_test, verbose=1)\n",
    "\n",
    "y_hat = y_hat[0:len(y_true)]\n",
    "y_pred = np.argmax(y_hat, axis=1)\n",
    "y_true = np.argmax(y_true, axis=1)"
   ]
  },
  {
   "cell_type": "code",
   "execution_count": 12,
   "id": "5013887a",
   "metadata": {
    "execution": {
     "iopub.execute_input": "2021-11-08T12:52:18.620724Z",
     "iopub.status.busy": "2021-11-08T12:52:18.619865Z",
     "iopub.status.idle": "2021-11-08T12:52:18.919791Z",
     "shell.execute_reply": "2021-11-08T12:52:18.920174Z"
    },
    "papermill": {
     "duration": 8.059958,
     "end_time": "2021-11-08T12:52:18.920326",
     "exception": false,
     "start_time": "2021-11-08T12:52:10.860368",
     "status": "completed"
    },
    "tags": []
   },
   "outputs": [
    {
     "data": {
      "image/png": "[encoded data removed]",
      "text/plain": [
       "<Figure size 432x288 with 2 Axes>"
      ]
     },
     "metadata": {
      "needs_background": "light"
     },
     "output_type": "display_data"
    }
   ],
   "source": [
    "print_confusion_matrix(y_true, y_pred, class_names)"
   ]
  },
  {
   "cell_type": "code",
   "execution_count": 13,
   "id": "b6fa935c",
   "metadata": {
    "execution": {
     "iopub.execute_input": "2021-11-08T12:52:33.343988Z",
     "iopub.status.busy": "2021-11-08T12:52:33.343106Z",
     "iopub.status.idle": "2021-11-08T12:52:33.621267Z",
     "shell.execute_reply": "2021-11-08T12:52:33.621879Z"
    },
    "papermill": {
     "duration": 7.416709,
     "end_time": "2021-11-08T12:52:33.622076",
     "exception": false,
     "start_time": "2021-11-08T12:52:26.205367",
     "status": "completed"
    },
    "tags": []
   },
   "outputs": [
    {
     "name": "stdout",
     "output_type": "stream",
     "text": [
      "Accuracy: 0.8594\n",
      "Precision: 0.8594\n",
      "Recall: 0.8594\n",
      "F1 Score: 0.8594\n",
      "Cohen Kappa Score: 0.7187\n",
      "Matthews Corrcoef: 0.7187\n",
      "ROC AUC: 0.8593578914437666\n",
      "\t\tClassification Report:\n",
      "               precision    recall  f1-score   support\n",
      "\n",
      "      Normal       0.86      0.86      0.86     25572\n",
      "    Abnormal       0.86      0.86      0.86     25572\n",
      "\n",
      "    accuracy                           0.86     51144\n",
      "   macro avg       0.86      0.86      0.86     51144\n",
      "weighted avg       0.86      0.86      0.86     51144\n",
      "\n"
     ]
    }
   ],
   "source": [
    "print_performance_metrics(y_true, y_pred, class_names)"
   ]
  },
  {
   "cell_type": "code",
   "execution_count": 14,
   "id": "0fc533d8",
   "metadata": {
    "execution": {
     "iopub.execute_input": "2021-11-08T12:52:48.286209Z",
     "iopub.status.busy": "2021-11-08T12:52:48.285638Z",
     "iopub.status.idle": "2021-11-08T13:01:41.141690Z",
     "shell.execute_reply": "2021-11-08T13:01:41.142093Z"
    },
    "papermill": {
     "duration": 540.216106,
     "end_time": "2021-11-08T13:01:41.142267",
     "exception": false,
     "start_time": "2021-11-08T12:52:40.926161",
     "status": "completed"
    },
    "tags": []
   },
   "outputs": [
    {
     "name": "stdout",
     "output_type": "stream",
     "text": [
      "42770\n",
      "669/669 [==============================] - 532s 795ms/step\n"
     ]
    }
   ],
   "source": [
    "val_df = pd.read_csv('../input/cq500-normal-images-and-labels/NormalAbnormal/NormalAbnormal/RSNA/Validation_f0.csv')\n",
    "abnormal = val_df.loc[val_df['Abnormal']==1]\n",
    "normal = val_df.loc[val_df['Normal']==1]\n",
    "normal=shuffle(normal)\n",
    "normal = normal.iloc[0:len(abnormal)]\n",
    "val_df = abnormal.append(normal, ignore_index=True)\n",
    "val_df = shuffle(val_df)\n",
    "print(len(val_df))\n",
    "\n",
    "HEIGHT = 256\n",
    "WIDTH = 256\n",
    "CHANNELS = 3\n",
    "VALID_BATCH_SIZE = 64\n",
    "SHAPE = (HEIGHT, WIDTH, CHANNELS)\n",
    "\n",
    "class_names = ['Normal', 'Abnormal']\n",
    "data_generator_test = TrainDataGenerator(val_df,\n",
    "                                        class_names, \n",
    "                                        VALID_BATCH_SIZE, \n",
    "                                        SHAPE,\n",
    "                                        augment = False,\n",
    "                                        shuffle = False\n",
    "                                        )\n",
    "\n",
    "y_true = val_df[class_names].values\n",
    "y_hat = model.predict(data_generator_test, verbose=1)\n",
    "\n",
    "y_hat = y_hat[0:len(y_true)]\n",
    "y_pred = np.argmax(y_hat, axis=1)\n",
    "y_true = np.argmax(y_true, axis=1)"
   ]
  },
  {
   "cell_type": "code",
   "execution_count": 15,
   "id": "54c3f9c3",
   "metadata": {
    "execution": {
     "iopub.execute_input": "2021-11-08T13:01:56.724102Z",
     "iopub.status.busy": "2021-11-08T13:01:56.723275Z",
     "iopub.status.idle": "2021-11-08T13:01:56.998061Z",
     "shell.execute_reply": "2021-11-08T13:01:56.998493Z"
    },
    "papermill": {
     "duration": 8.266623,
     "end_time": "2021-11-08T13:01:56.998650",
     "exception": false,
     "start_time": "2021-11-08T13:01:48.732027",
     "status": "completed"
    },
    "tags": []
   },
   "outputs": [
    {
     "data": {
      "image/png": "[encoded data removed]",
      "text/plain": [
       "<Figure size 432x288 with 2 Axes>"
      ]
     },
     "metadata": {
      "needs_background": "light"
     },
     "output_type": "display_data"
    }
   ],
   "source": [
    "print_confusion_matrix(y_true, y_pred, class_names)"
   ]
  },
  {
   "cell_type": "code",
   "execution_count": 16,
   "id": "061ec837",
   "metadata": {
    "execution": {
     "iopub.execute_input": "2021-11-08T13:02:11.844473Z",
     "iopub.status.busy": "2021-11-08T13:02:11.843473Z",
     "iopub.status.idle": "2021-11-08T13:02:12.074875Z",
     "shell.execute_reply": "2021-11-08T13:02:12.075318Z"
    },
    "papermill": {
     "duration": 7.916966,
     "end_time": "2021-11-08T13:02:12.075491",
     "exception": false,
     "start_time": "2021-11-08T13:02:04.158525",
     "status": "completed"
    },
    "tags": []
   },
   "outputs": [
    {
     "name": "stdout",
     "output_type": "stream",
     "text": [
      "Accuracy: 0.8598\n",
      "Precision: 0.8598\n",
      "Recall: 0.8598\n",
      "F1 Score: 0.8598\n",
      "Cohen Kappa Score: 0.7196\n",
      "Matthews Corrcoef: 0.7196\n",
      "ROC AUC: 0.8598082768295534\n",
      "\t\tClassification Report:\n",
      "               precision    recall  f1-score   support\n",
      "\n",
      "      Normal       0.86      0.86      0.86     21385\n",
      "    Abnormal       0.86      0.86      0.86     21385\n",
      "\n",
      "    accuracy                           0.86     42770\n",
      "   macro avg       0.86      0.86      0.86     42770\n",
      "weighted avg       0.86      0.86      0.86     42770\n",
      "\n"
     ]
    }
   ],
   "source": [
    "print_performance_metrics(y_true, y_pred, class_names)"
   ]
  },
  {
   "cell_type": "code",
   "execution_count": 17,
   "id": "114803f3",
   "metadata": {
    "execution": {
     "iopub.execute_input": "2021-11-08T13:02:27.450609Z",
     "iopub.status.busy": "2021-11-08T13:02:27.450037Z",
     "iopub.status.idle": "2021-11-08T13:03:53.098366Z",
     "shell.execute_reply": "2021-11-08T13:03:53.097860Z"
    },
    "papermill": {
     "duration": 93.391798,
     "end_time": "2021-11-08T13:03:53.098539",
     "exception": false,
     "start_time": "2021-11-08T13:02:19.706741",
     "status": "completed"
    },
    "tags": []
   },
   "outputs": [
    {
     "name": "stdout",
     "output_type": "stream",
     "text": [
      "8374\n",
      "131/131 [==============================] - 85s 649ms/step\n"
     ]
    }
   ],
   "source": [
    "val_df = pd.read_csv('../input/cq500-normal-images-and-labels/NormalAbnormal/NormalAbnormal/CQ500/Validation_f0.csv')\n",
    "abnormal = val_df.loc[val_df['Abnormal']==1]\n",
    "normal = val_df.loc[val_df['Normal']==1]\n",
    "normal=shuffle(normal)\n",
    "normal = normal.iloc[0:len(abnormal)]\n",
    "val_df = abnormal.append(normal, ignore_index=True)\n",
    "val_df = shuffle(val_df)\n",
    "print(len(val_df))\n",
    "\n",
    "HEIGHT = 256\n",
    "WIDTH = 256\n",
    "CHANNELS = 3\n",
    "VALID_BATCH_SIZE = 64\n",
    "SHAPE = (HEIGHT, WIDTH, CHANNELS)\n",
    "\n",
    "class_names = ['Normal', 'Abnormal']\n",
    "data_generator_test = TrainDataGenerator(val_df,\n",
    "                                        class_names, \n",
    "                                        VALID_BATCH_SIZE, \n",
    "                                        SHAPE,\n",
    "                                        augment = False,\n",
    "                                        shuffle = False\n",
    "                                        )\n",
    "\n",
    "y_true = val_df[class_names].values\n",
    "y_hat = model.predict(data_generator_test, verbose=1)\n",
    "\n",
    "y_hat = y_hat[0:len(y_true)]\n",
    "y_pred = np.argmax(y_hat, axis=1)\n",
    "y_true = np.argmax(y_true, axis=1)"
   ]
  },
  {
   "cell_type": "code",
   "execution_count": 18,
   "id": "8b85dec3",
   "metadata": {
    "execution": {
     "iopub.execute_input": "2021-11-08T13:04:08.676905Z",
     "iopub.status.busy": "2021-11-08T13:04:08.676068Z",
     "iopub.status.idle": "2021-11-08T13:04:08.937043Z",
     "shell.execute_reply": "2021-11-08T13:04:08.937443Z"
    },
    "papermill": {
     "duration": 8.199208,
     "end_time": "2021-11-08T13:04:08.937614",
     "exception": false,
     "start_time": "2021-11-08T13:04:00.738406",
     "status": "completed"
    },
    "tags": []
   },
   "outputs": [
    {
     "data": {
      "image/png": "[encoded data removed]",
      "text/plain": [
       "<Figure size 432x288 with 2 Axes>"
      ]
     },
     "metadata": {
      "needs_background": "light"
     },
     "output_type": "display_data"
    }
   ],
   "source": [
    "print_confusion_matrix(y_true, y_pred, class_names)"
   ]
  },
  {
   "cell_type": "code",
   "execution_count": 19,
   "id": "a0f4844b",
   "metadata": {
    "execution": {
     "iopub.execute_input": "2021-11-08T13:04:23.895202Z",
     "iopub.status.busy": "2021-11-08T13:04:23.894333Z",
     "iopub.status.idle": "2021-11-08T13:04:23.949694Z",
     "shell.execute_reply": "2021-11-08T13:04:23.950243Z"
    },
    "papermill": {
     "duration": 7.641662,
     "end_time": "2021-11-08T13:04:23.950457",
     "exception": false,
     "start_time": "2021-11-08T13:04:16.308795",
     "status": "completed"
    },
    "tags": []
   },
   "outputs": [
    {
     "name": "stdout",
     "output_type": "stream",
     "text": [
      "Accuracy: 0.8636\n",
      "Precision: 0.8637\n",
      "Recall: 0.8636\n",
      "F1 Score: 0.8636\n",
      "Cohen Kappa Score: 0.7273\n",
      "Matthews Corrcoef: 0.7273\n",
      "ROC AUC: 0.8636255075232864\n",
      "\t\tClassification Report:\n",
      "               precision    recall  f1-score   support\n",
      "\n",
      "      Normal       0.86      0.87      0.86      4187\n",
      "    Abnormal       0.87      0.86      0.86      4187\n",
      "\n",
      "    accuracy                           0.86      8374\n",
      "   macro avg       0.86      0.86      0.86      8374\n",
      "weighted avg       0.86      0.86      0.86      8374\n",
      "\n"
     ]
    }
   ],
   "source": [
    "print_performance_metrics(y_true, y_pred, class_names)"
   ]
  },
  {
   "cell_type": "code",
   "execution_count": null,
   "id": "371b0e4a",
   "metadata": {
    "papermill": {
     "duration": 7.765726,
     "end_time": "2021-11-08T13:04:39.306402",
     "exception": false,
     "start_time": "2021-11-08T13:04:31.540676",
     "status": "completed"
    },
    "tags": []
   },
   "outputs": [],
   "source": []
  },
  {
   "cell_type": "code",
   "execution_count": null,
   "id": "68243868",
   "metadata": {
    "papermill": {
     "duration": 7.516608,
     "end_time": "2021-11-08T13:04:54.275528",
     "exception": false,
     "start_time": "2021-11-08T13:04:46.758920",
     "status": "completed"
    },
    "tags": []
   },
   "outputs": [],
   "source": []
  },
  {
   "cell_type": "code",
   "execution_count": null,
   "id": "eff026b9",
   "metadata": {
    "papermill": {
     "duration": 7.921945,
     "end_time": "2021-11-08T13:05:09.466842",
     "exception": false,
     "start_time": "2021-11-08T13:05:01.544897",
     "status": "completed"
    },
    "tags": []
   },
   "outputs": [],
   "source": []
  },
  {
   "cell_type": "code",
   "execution_count": null,
   "id": "7ec5edc1",
   "metadata": {
    "papermill": {
     "duration": 7.516025,
     "end_time": "2021-11-08T13:05:24.705741",
     "exception": false,
     "start_time": "2021-11-08T13:05:17.189716",
     "status": "completed"
    },
    "tags": []
   },
   "outputs": [],
   "source": []
  },
  {
   "cell_type": "code",
   "execution_count": null,
   "id": "9d3ef9ab",
   "metadata": {
    "papermill": {
     "duration": 7.689676,
     "end_time": "2021-11-08T13:05:39.660106",
     "exception": false,
     "start_time": "2021-11-08T13:05:31.970430",
     "status": "completed"
    },
    "tags": []
   },
   "outputs": [],
   "source": []
  },
  {
   "cell_type": "code",
   "execution_count": null,
   "id": "8c3ebc68",
   "metadata": {
    "papermill": {
     "duration": 7.290295,
     "end_time": "2021-11-08T13:05:55.015372",
     "exception": false,
     "start_time": "2021-11-08T13:05:47.725077",
     "status": "completed"
    },
    "tags": []
   },
   "outputs": [],
   "source": []
  },
  {
   "cell_type": "code",
   "execution_count": null,
   "id": "f70b8059",
   "metadata": {
    "papermill": {
     "duration": 7.631447,
     "end_time": "2021-11-08T13:06:10.362290",
     "exception": false,
     "start_time": "2021-11-08T13:06:02.730843",
     "status": "completed"
    },
    "tags": []
   },
   "outputs": [],
   "source": []
  }
 ],
 "metadata": {
  "kernelspec": {
   "display_name": "Python 3",
   "language": "python",
   "name": "python3"
  },
  "language_info": {
   "codemirror_mode": {
    "name": "ipython",
    "version": 3
   },
   "file_extension": ".py",
   "mimetype": "text/x-python",
   "name": "python",
   "nbconvert_exporter": "python",
   "pygments_lexer": "ipython3",
   "version": "3.7.10"
  },
  "papermill": {
   "default_parameters": {},
   "duration": 10330.790316,
   "end_time": "2021-11-08T13:06:21.448780",
   "environment_variables": {},
   "exception": null,
   "input_path": "__notebook__.ipynb",
   "output_path": "__notebook__.ipynb",
   "parameters": {},
   "start_time": "2021-11-08T10:14:10.658464",
   "version": "2.3.3"
  }
 },
 "nbformat": 4,
 "nbformat_minor": 5
}
